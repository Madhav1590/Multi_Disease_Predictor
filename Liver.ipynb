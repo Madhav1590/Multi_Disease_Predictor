{
  "nbformat": 4,
  "nbformat_minor": 0,
  "metadata": {
    "colab": {
      "name": "Liver",
      "provenance": [],
      "collapsed_sections": []
    },
    "kernelspec": {
      "name": "python3",
      "display_name": "Python 3"
    },
    "language_info": {
      "name": "python"
    }
  },
  "cells": [
    {
      "cell_type": "code",
      "source": [
        "!pip install --upgrade azureml-sdk[notebooks,explain,automl,contrib]"
      ],
      "metadata": {
        "id": "kWtMBrSQtwlM"
      },
      "execution_count": null,
      "outputs": []
    },
    {
      "cell_type": "code",
      "source": [
        "import json\n",
        "import logging\n",
        "\n",
        "from matplotlib import pyplot as plt\n",
        "import pandas as pd\n",
        "import numpy as np\n",
        "import os\n",
        "\n",
        "import azureml.core\n",
        "from azureml.core.experiment import Experiment\n",
        "from azureml.core.workspace import Workspace\n",
        "from azureml.core.dataset import Dataset\n",
        "from azureml.train.automl import AutoMLConfig\n",
        "from azureml.interpret import ExplanationClient\n",
        "\n",
        "from azureml.core.compute import ComputeTarget, AmlCompute\n",
        "from azureml.core.compute_target import ComputeTargetException\n",
        "\n"
      ],
      "metadata": {
        "id": "MpWMkjEZt2nw"
      },
      "execution_count": 1,
      "outputs": []
    },
    {
      "cell_type": "code",
      "source": [
        "ws = Workspace(subscription_id='c463a189-ff51-4b8d-aa64-edea8b0527e5',\n",
        "               resource_group='Liver_disease',\n",
        "               workspace_name='Liver1')\n",
        "\n",
        "# Choose a name for the experiment.\n",
        "experiment_name = 'Liver_D'\n",
        "\n",
        "experiment = Experiment(ws, experiment_name)\n",
        "\n",
        "output = {}\n",
        "output['Subscription ID'] = ws.subscription_id\n",
        "output['Workspace'] = ws.name\n",
        "output['Resource Group'] = ws.resource_group\n",
        "output['Location'] = ws.location\n",
        "output['Run History Name'] = experiment_name\n",
        "pd.set_option('display.max_colwidth', -1)\n",
        "outputDf = pd.DataFrame(data = output, index = [''])\n",
        "outputDf.T"
      ],
      "metadata": {
        "colab": {
          "base_uri": "https://localhost:8080/",
          "height": 241
        },
        "id": "F9QB_cf7t22g",
        "outputId": "2cc706bb-c6c3-47ff-e1bf-23ba55d582cc"
      },
      "execution_count": 2,
      "outputs": [
        {
          "output_type": "stream",
          "name": "stdout",
          "text": [
            "Performing interactive authentication. Please follow the instructions on the terminal.\n"
          ]
        },
        {
          "output_type": "stream",
          "name": "stderr",
          "text": [
            "To sign in, use a web browser to open the page https://microsoft.com/devicelogin and enter the code FRB5ZWVH3 to authenticate.\n"
          ]
        },
        {
          "output_type": "stream",
          "name": "stdout",
          "text": [
            "Interactive authentication successfully completed.\n"
          ]
        },
        {
          "output_type": "execute_result",
          "data": {
            "text/html": [
              "\n",
              "  <div id=\"df-a404e8b1-662e-416d-8f64-296b12f3c88d\">\n",
              "    <div class=\"colab-df-container\">\n",
              "      <div>\n",
              "<style scoped>\n",
              "    .dataframe tbody tr th:only-of-type {\n",
              "        vertical-align: middle;\n",
              "    }\n",
              "\n",
              "    .dataframe tbody tr th {\n",
              "        vertical-align: top;\n",
              "    }\n",
              "\n",
              "    .dataframe thead th {\n",
              "        text-align: right;\n",
              "    }\n",
              "</style>\n",
              "<table border=\"1\" class=\"dataframe\">\n",
              "  <thead>\n",
              "    <tr style=\"text-align: right;\">\n",
              "      <th></th>\n",
              "      <th></th>\n",
              "    </tr>\n",
              "  </thead>\n",
              "  <tbody>\n",
              "    <tr>\n",
              "      <th>Subscription ID</th>\n",
              "      <td>c463a189-ff51-4b8d-aa64-edea8b0527e5</td>\n",
              "    </tr>\n",
              "    <tr>\n",
              "      <th>Workspace</th>\n",
              "      <td>Liver1</td>\n",
              "    </tr>\n",
              "    <tr>\n",
              "      <th>Resource Group</th>\n",
              "      <td>Liver_disease</td>\n",
              "    </tr>\n",
              "    <tr>\n",
              "      <th>Location</th>\n",
              "      <td>centralindia</td>\n",
              "    </tr>\n",
              "    <tr>\n",
              "      <th>Run History Name</th>\n",
              "      <td>Liver_D</td>\n",
              "    </tr>\n",
              "  </tbody>\n",
              "</table>\n",
              "</div>\n",
              "      <button class=\"colab-df-convert\" onclick=\"convertToInteractive('df-a404e8b1-662e-416d-8f64-296b12f3c88d')\"\n",
              "              title=\"Convert this dataframe to an interactive table.\"\n",
              "              style=\"display:none;\">\n",
              "        \n",
              "  <svg xmlns=\"http://www.w3.org/2000/svg\" height=\"24px\"viewBox=\"0 0 24 24\"\n",
              "       width=\"24px\">\n",
              "    <path d=\"M0 0h24v24H0V0z\" fill=\"none\"/>\n",
              "    <path d=\"M18.56 5.44l.94 2.06.94-2.06 2.06-.94-2.06-.94-.94-2.06-.94 2.06-2.06.94zm-11 1L8.5 8.5l.94-2.06 2.06-.94-2.06-.94L8.5 2.5l-.94 2.06-2.06.94zm10 10l.94 2.06.94-2.06 2.06-.94-2.06-.94-.94-2.06-.94 2.06-2.06.94z\"/><path d=\"M17.41 7.96l-1.37-1.37c-.4-.4-.92-.59-1.43-.59-.52 0-1.04.2-1.43.59L10.3 9.45l-7.72 7.72c-.78.78-.78 2.05 0 2.83L4 21.41c.39.39.9.59 1.41.59.51 0 1.02-.2 1.41-.59l7.78-7.78 2.81-2.81c.8-.78.8-2.07 0-2.86zM5.41 20L4 18.59l7.72-7.72 1.47 1.35L5.41 20z\"/>\n",
              "  </svg>\n",
              "      </button>\n",
              "      \n",
              "  <style>\n",
              "    .colab-df-container {\n",
              "      display:flex;\n",
              "      flex-wrap:wrap;\n",
              "      gap: 12px;\n",
              "    }\n",
              "\n",
              "    .colab-df-convert {\n",
              "      background-color: #E8F0FE;\n",
              "      border: none;\n",
              "      border-radius: 50%;\n",
              "      cursor: pointer;\n",
              "      display: none;\n",
              "      fill: #1967D2;\n",
              "      height: 32px;\n",
              "      padding: 0 0 0 0;\n",
              "      width: 32px;\n",
              "    }\n",
              "\n",
              "    .colab-df-convert:hover {\n",
              "      background-color: #E2EBFA;\n",
              "      box-shadow: 0px 1px 2px rgba(60, 64, 67, 0.3), 0px 1px 3px 1px rgba(60, 64, 67, 0.15);\n",
              "      fill: #174EA6;\n",
              "    }\n",
              "\n",
              "    [theme=dark] .colab-df-convert {\n",
              "      background-color: #3B4455;\n",
              "      fill: #D2E3FC;\n",
              "    }\n",
              "\n",
              "    [theme=dark] .colab-df-convert:hover {\n",
              "      background-color: #434B5C;\n",
              "      box-shadow: 0px 1px 3px 1px rgba(0, 0, 0, 0.15);\n",
              "      filter: drop-shadow(0px 1px 2px rgba(0, 0, 0, 0.3));\n",
              "      fill: #FFFFFF;\n",
              "    }\n",
              "  </style>\n",
              "\n",
              "      <script>\n",
              "        const buttonEl =\n",
              "          document.querySelector('#df-a404e8b1-662e-416d-8f64-296b12f3c88d button.colab-df-convert');\n",
              "        buttonEl.style.display =\n",
              "          google.colab.kernel.accessAllowed ? 'block' : 'none';\n",
              "\n",
              "        async function convertToInteractive(key) {\n",
              "          const element = document.querySelector('#df-a404e8b1-662e-416d-8f64-296b12f3c88d');\n",
              "          const dataTable =\n",
              "            await google.colab.kernel.invokeFunction('convertToInteractive',\n",
              "                                                     [key], {});\n",
              "          if (!dataTable) return;\n",
              "\n",
              "          const docLinkHtml = 'Like what you see? Visit the ' +\n",
              "            '<a target=\"_blank\" href=https://colab.research.google.com/notebooks/data_table.ipynb>data table notebook</a>'\n",
              "            + ' to learn more about interactive tables.';\n",
              "          element.innerHTML = '';\n",
              "          dataTable['output_type'] = 'display_data';\n",
              "          await google.colab.output.renderOutput(dataTable, element);\n",
              "          const docLink = document.createElement('div');\n",
              "          docLink.innerHTML = docLinkHtml;\n",
              "          element.appendChild(docLink);\n",
              "        }\n",
              "      </script>\n",
              "    </div>\n",
              "  </div>\n",
              "  "
            ],
            "text/plain": [
              "                                                      \n",
              "Subscription ID   c463a189-ff51-4b8d-aa64-edea8b0527e5\n",
              "Workspace         Liver1                              \n",
              "Resource Group    Liver_disease                       \n",
              "Location          centralindia                        \n",
              "Run History Name  Liver_D                             "
            ]
          },
          "metadata": {},
          "execution_count": 2
        }
      ]
    },
    {
      "cell_type": "code",
      "source": [
        "from azureml.core.compute import ComputeTarget, AmlCompute\n",
        "from azureml.core.compute_target import ComputeTargetException\n",
        "\n",
        "cpu_cluster_name = \"cpu-cluster-4\"\n",
        "\n",
        "try:\n",
        "    compute_target = ComputeTarget(workspace=ws, name=cpu_cluster_name)\n",
        "    print('Found existing cluster, use it.')\n",
        "except ComputeTargetException:\n",
        "    compute_config = AmlCompute.provisioning_configuration(vm_size='STANDARD_DS12_V2',\n",
        "                                                           max_nodes=6)\n",
        "    compute_target = ComputeTarget.create(ws, cpu_cluster_name, compute_config)\n",
        "\n",
        "compute_target.wait_for_completion(show_output=True)"
      ],
      "metadata": {
        "colab": {
          "base_uri": "https://localhost:8080/"
        },
        "id": "fKNBhFYwuwZv",
        "outputId": "acd611e2-e063-42cb-d98a-8f9ff0b7924d"
      },
      "execution_count": 3,
      "outputs": [
        {
          "output_type": "stream",
          "name": "stdout",
          "text": [
            "InProgress.\n",
            "SucceededProvisioning operation finished, operation \"Succeeded\"\n",
            "Succeeded\n",
            "AmlCompute wait for completion finished\n",
            "\n",
            "Minimum number of nodes requested have been provisioned\n"
          ]
        }
      ]
    },
    {
      "cell_type": "code",
      "source": [
        "data = pd.read_csv('/content/data/liver.csv')\n",
        "\n",
        "if not os.path.isdir('data'):\n",
        "    os.mkdir('data')\n",
        "\n",
        "ds = ws.get_default_datastore()\n",
        "ds.upload(src_dir='./data', target_path='fourth_disease', overwrite=True, show_progress=True)"
      ],
      "metadata": {
        "id": "82EJb5Tex2PH",
        "colab": {
          "base_uri": "https://localhost:8080/"
        },
        "outputId": "98f11248-409b-40ee-84d5-8f3f9d7ee840"
      },
      "execution_count": 4,
      "outputs": [
        {
          "output_type": "stream",
          "name": "stderr",
          "text": [
            "\"Datastore.upload\" is deprecated after version 1.0.69. Please use \"Dataset.File.upload_directory\" to upload your files             from a local directory and create FileDataset in single method call. See Dataset API change notice at https://aka.ms/dataset-deprecation.\n"
          ]
        },
        {
          "output_type": "stream",
          "name": "stdout",
          "text": [
            "Uploading an estimated of 1 files\n",
            "Uploading ./data/liver.csv\n",
            "Uploaded ./data/liver.csv, 1 files out of an estimated total of 1\n",
            "Uploaded 1 files\n"
          ]
        },
        {
          "output_type": "execute_result",
          "data": {
            "text/plain": [
              "$AZUREML_DATAREFERENCE_f5e46edbf5c24e868c67871bf5ceb5fd"
            ]
          },
          "metadata": {},
          "execution_count": 4
        }
      ]
    },
    {
      "cell_type": "code",
      "source": [
        "train_data = Dataset.Tabular.from_delimited_files(path=ds.path('fourth_disease/liver.csv'))"
      ],
      "metadata": {
        "id": "gvVL6WWs2fPH"
      },
      "execution_count": 5,
      "outputs": []
    },
    {
      "cell_type": "code",
      "source": [
        "automl_settings = {\n",
        "    \"experiment_timeout_hours\" : 0.6,\n",
        "    \"enable_early_stopping\" : True,\n",
        "    \"iteration_timeout_minutes\": 5,\n",
        "    \"max_concurrent_iterations\": 4,\n",
        "    \"max_cores_per_iteration\": -1,\n",
        "    \"n_cross_validations\": 2,\n",
        "    \"primary_metric\": 'AUC_weighted',\n",
        "    \"featurization\": 'auto',\n",
        "    \"verbosity\": logging.INFO,\n",
        "}\n",
        "\n",
        "automl_config = AutoMLConfig(task = 'classification',\n",
        "                             debug_log = 'automl_errors.log',\n",
        "                             compute_target=compute_target,\n",
        "                             experiment_exit_score = 0.9984,\n",
        "                             blocked_models = ['KNN','LinearSVM'],\n",
        "                             enable_onnx_compatible_models=True,\n",
        "                             validation_size=0.2,\n",
        "                             training_data = train_data,\n",
        "                             label_column_name = 'Dataset',\n",
        "                             **automl_settings\n",
        "                            )"
      ],
      "metadata": {
        "id": "yYuMPWmO3F7U"
      },
      "execution_count": 6,
      "outputs": []
    },
    {
      "cell_type": "code",
      "source": [
        "remote_run = experiment.submit(automl_config, show_output = True)"
      ],
      "metadata": {
        "colab": {
          "base_uri": "https://localhost:8080/",
          "height": 1000
        },
        "id": "Ky8q5G224RBN",
        "outputId": "2c765aed-ce18-401a-d0ee-27fb82fe213a"
      },
      "execution_count": 7,
      "outputs": [
        {
          "output_type": "stream",
          "name": "stdout",
          "text": [
            "Submitting remote run.\n",
            "No run_configuration provided, running on cpu-cluster-4 with default configuration\n",
            "Running on remote compute: cpu-cluster-4\n"
          ]
        },
        {
          "output_type": "display_data",
          "data": {
            "text/html": [
              "<table style=\"width:100%\"><tr><th>Experiment</th><th>Id</th><th>Type</th><th>Status</th><th>Details Page</th><th>Docs Page</th></tr><tr><td>Liver_D</td><td>AutoML_0e7c2551-70a8-49cd-9464-fcd9fb894e10</td><td>automl</td><td>NotStarted</td><td><a href=\"https://ml.azure.com/runs/AutoML_0e7c2551-70a8-49cd-9464-fcd9fb894e10?wsid=/subscriptions/c463a189-ff51-4b8d-aa64-edea8b0527e5/resourcegroups/Liver_disease/workspaces/Liver1&amp;tid=46b77619-cbe7-4f99-a04a-a705988b20c2\" target=\"_blank\" rel=\"noopener\">Link to Azure Machine Learning studio</a></td><td><a href=\"https://docs.microsoft.com/en-us/python/api/overview/azure/ml/intro?view=azure-ml-py\" target=\"_blank\" rel=\"noopener\">Link to Documentation</a></td></tr></table>"
            ],
            "text/plain": [
              "<IPython.core.display.HTML object>"
            ]
          },
          "metadata": {}
        },
        {
          "output_type": "stream",
          "name": "stdout",
          "text": [
            "\n",
            "Current status: FeaturesGeneration. Generating features for the dataset.\n",
            "Current status: ModelSelection. Beginning model selection.\n",
            "\n",
            "********************************************************************************************\n",
            "DATA GUARDRAILS: \n",
            "\n",
            "TYPE:         Class balancing detection\n",
            "STATUS:       PASSED\n",
            "DESCRIPTION:  Your inputs were analyzed, and all classes are balanced in your training data.\n",
            "              Learn more about imbalanced data: https://aka.ms/AutomatedMLImbalancedData\n",
            "\n",
            "********************************************************************************************\n",
            "\n",
            "TYPE:         Missing feature values imputation\n",
            "STATUS:       DONE\n",
            "DESCRIPTION:  If the missing values are expected, let the run complete. Otherwise cancel the current run and use a script to customize the handling of missing feature values that may be more appropriate based on the data type and business requirement.\n",
            "              Learn more about missing value imputation: https://aka.ms/AutomatedMLFeaturization\n",
            "DETAILS:      \n",
            "+------------------------------+------------------------------+------------------------------+\n",
            "|Column name                   |Missing value count           |Imputation type               |\n",
            "+==============================+==============================+==============================+\n",
            "|Albumin_and_Globulin_Ratio    |4                             |mean                          |\n",
            "+------------------------------+------------------------------+------------------------------+\n",
            "\n",
            "********************************************************************************************\n",
            "\n",
            "TYPE:         High cardinality feature detection\n",
            "STATUS:       PASSED\n",
            "DESCRIPTION:  Your inputs were analyzed, and no high cardinality features were detected.\n",
            "              Learn more about high cardinality feature handling: https://aka.ms/AutomatedMLFeaturization\n",
            "\n",
            "********************************************************************************************\n",
            "\n",
            "********************************************************************************************\n",
            "ITER: The iteration being evaluated.\n",
            "PIPELINE: A summary description of the pipeline being evaluated.\n",
            "DURATION: Time taken for the current iteration.\n",
            "METRIC: The result of computing score on the fitted pipeline.\n",
            "BEST: The best observed score thus far.\n",
            "********************************************************************************************\n",
            "\n",
            " ITER   PIPELINE                                       DURATION            METRIC      BEST\n",
            "    2   MaxAbsScaler ExtremeRandomTrees                0:00:33             0.7375    0.7375\n",
            "    3   MaxAbsScaler RandomForest                      0:01:11             0.7136    0.7375\n",
            "    1   MaxAbsScaler XGBoostClassifier                 0:01:47             0.7157    0.7375\n",
            "    0   MaxAbsScaler LightGBM                          0:00:20             0.7432    0.7432\n",
            "    4   StandardScalerWrapper LightGBM                 0:00:23             0.7303    0.7432\n",
            "    6   SparseNormalizer RandomForest                  0:02:41             0.7399    0.7432\n",
            "    8   StandardScalerWrapper LogisticRegression       0:00:48             0.7217    0.7432\n",
            "    5   SparseNormalizer XGBoostClassifier             0:03:53             0.7204    0.7432\n",
            "    7   MinMaxScaler RandomForest                      0:00:25             0.7175    0.7432\n",
            "    9   StandardScalerWrapper SVM                      0:00:13             0.6616    0.7432\n",
            "   10   StandardScalerWrapper XGBoostClassifier        0:00:14             0.7126    0.7432\n",
            "   12   SparseNormalizer XGBoostClassifier             0:02:04             0.7182    0.7432\n",
            "   13   MinMaxScaler ExtremeRandomTrees                0:02:04             0.7208    0.7432\n",
            "   11   RobustScaler ExtremeRandomTrees                0:03:55             0.7149    0.7432\n",
            "   14   MinMaxScaler ExtremeRandomTrees                0:00:24             0.7318    0.7432\n",
            "   15   SparseNormalizer LightGBM                      0:00:11             0.6990    0.7432\n",
            "   16   MaxAbsScaler ExtremeRandomTrees                0:00:18             0.7385    0.7432\n",
            "   17   StandardScalerWrapper XGBoostClassifier        0:03:59             0.7217    0.7432\n",
            "   18   StandardScalerWrapper RandomForest             0:02:08             0.7256    0.7432\n",
            "   19   MaxAbsScaler LightGBM                          0:02:09             0.7171    0.7432\n",
            "   20   MaxAbsScaler LogisticRegression                0:00:24             0.7227    0.7432\n",
            "   21   StandardScalerWrapper ExtremeRandomTrees       0:00:18             0.7311    0.7432\n",
            "   22   StandardScalerWrapper XGBoostClassifier        0:00:21             0.7194    0.7432\n",
            "   23   MaxAbsScaler LogisticRegression                0:03:17             0.7210    0.7432\n",
            "   24   StandardScalerWrapper XGBoostClassifier        0:02:01             0.7373    0.7432\n",
            "   25   PCA LightGBM                                   0:02:36             0.6752    0.7432\n",
            "   26   StandardScalerWrapper SVM                      0:00:20             0.7389    0.7432\n",
            "   27   StandardScalerWrapper SVM                      0:00:08             0.7543    0.7543\n",
            "   28   MinMaxScaler LogisticRegression                0:00:11             0.7274    0.7543\n",
            "   29   MinMaxScaler LogisticRegression                0:03:59             0.7300    0.7543\n",
            "   30   PCA LightGBM                                   0:02:08             0.6266    0.7543\n",
            "   31   MaxAbsScaler LogisticRegression                0:02:12             0.7263    0.7543\n",
            "   32   MinMaxScaler LightGBM                          0:00:21             0.7236    0.7543\n",
            "   33   RobustScaler LightGBM                          0:00:11             0.7453    0.7543\n",
            "   34   StandardScalerWrapper LightGBM                 0:00:13             0.7384    0.7543\n",
            "   35   RobustScaler SVM                               0:02:38             0.6956    0.7543\n",
            "   36   SparseNormalizer XGBoostClassifier             0:02:38             0.7185    0.7543\n",
            "   37   MinMaxScaler RandomForest                      0:02:40             0.7202    0.7543\n",
            "   38   MinMaxScaler RandomForest                      0:00:22             0.7106    0.7543\n",
            "   39   SparseNormalizer ExtremeRandomTrees            0:00:12             0.7195    0.7543\n",
            "   40   MinMaxScaler SVM                               0:00:15             0.3336    0.7543\n",
            "   41                                                  0:01:55                nan    0.7543\n",
            "   42                                                  0:00:51                nan    0.7543\n",
            "   43                                                  0:00:34                nan    0.7543\n",
            "   44    VotingEnsemble                                0:01:00             0.7618    0.7618\n"
          ]
        }
      ]
    },
    {
      "cell_type": "code",
      "source": [
        "best_run, fitted_model = remote_run.get_output()"
      ],
      "metadata": {
        "id": "sCN-tfXpzDx3"
      },
      "execution_count": 8,
      "outputs": []
    },
    {
      "cell_type": "code",
      "source": [
        "import pickle\n",
        "\n",
        "pickle_out = open(\"Liver_model.pkl\", \"wb\") \n",
        "pickle.dump(fitted_model, pickle_out) \n",
        "pickle_out.close()"
      ],
      "metadata": {
        "id": "Ig9-bj2x2DGh"
      },
      "execution_count": 15,
      "outputs": []
    }
  ]
}